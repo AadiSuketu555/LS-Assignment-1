{
  "nbformat": 4,
  "nbformat_minor": 0,
  "metadata": {
    "colab": {
      "provenance": [],
      "include_colab_link": true
    },
    "kernelspec": {
      "name": "python3",
      "display_name": "Python 3"
    },
    "language_info": {
      "name": "python"
    }
  },
  "cells": [
    {
      "cell_type": "markdown",
      "metadata": {
        "id": "view-in-github",
        "colab_type": "text"
      },
      "source": [
        "<a href=\"https://colab.research.google.com/github/AadiSuketu555/LS-Assignment-1/blob/main/Copy_of_linear_regression_week1.ipynb\" target=\"_parent\"><img src=\"https://colab.research.google.com/assets/colab-badge.svg\" alt=\"Open In Colab\"/></a>"
      ]
    },
    {
      "cell_type": "code",
      "execution_count": 4,
      "metadata": {
        "id": "-zTLHrFCT6KY"
      },
      "outputs": [],
      "source": [
        "import numpy as np\n",
        "import pandas as pd\n",
        "import matplotlib.pyplot as plt\n",
        "\n",
        "# Aim is to predict the marks of students of the test data"
      ]
    },
    {
      "cell_type": "code",
      "source": [
        "# Use the file named 'training data' to train the model\n",
        "\n",
        "data = pd.read_excel('/content/Training data.xlsx')\n",
        "x_train = np.array(data.iloc[:,0:8])\n",
        "y_train = np.array(data.iloc[:,8]).reshape(-1,1)\n",
        "y_train = y_train.reshape(x_train.shape[0])\n",
        "\n",
        "# Try plotting y_train with different features\n",
        "# To get an idea whether to add some features or not\n",
        "# Add some features if required in x_train\n",
        "\n",
        "# Also do label encoding for features not represented in numbers\n",
        "# refer the link if not know : https://youtu.be/589nCGeWG1w?si=t2Wa7LgbUOO4RooM\n",
        "\n",
        "def feature_changing(x_train):\n",
        "  # ---------\n",
        "  study_ratio = x_train[:,3]/(x_train[:,2] + x_train[:,3] + x_train[:,4])\n",
        "  study_ratio = study_ratio.reshape(-1,1)\n",
        "\n",
        "  x_train = np.append(x_train, study_ratio, axis=1)\n",
        "  for i in range(x_train.shape[0]):\n",
        "    for j in range(2):\n",
        "      if ((x_train[i,j] == 'no') or (x_train[i,j] == 'F')):\n",
        "        x_train[i,j] = 0\n",
        "      else:\n",
        "        x_train[i,j] = 1\n",
        "  # ---------\n",
        "  return x_train\n",
        "\n",
        "x_train = feature_changing(x_train)"
      ],
      "metadata": {
        "id": "p0KHq8ZgTpU4"
      },
      "execution_count": 52,
      "outputs": []
    },
    {
      "cell_type": "code",
      "source": [
        "def z_score(x_train):\n",
        "\n",
        "  # ---------\n",
        "    # write the code for feature scaling here\n",
        "    x_sum = np.sum(x_train,axis=0)\n",
        "    x_mean = x_sum/x_train.shape[0]\n",
        "    sum = np.zeros(9)\n",
        "    for i in range(9):\n",
        "      arr_temp = (x_train[:,i] - x_mean[i])**2\n",
        "      sum[i] = np.sum(arr_temp, axis=0)\n",
        "    sum = sum/x_train.shape[0]\n",
        "    x_std = np.sqrt(sum)\n",
        "    for i in range(9):\n",
        "      x_train[:,i] = (x_train[:,i] - x_mean[i])/x_std[i]\n",
        "    return x_train,x_std,x_mean\n",
        "  # ---------\n",
        "\n",
        "    return x_train,x_std,x_mean"
      ],
      "metadata": {
        "id": "tYshvtYlVour"
      },
      "execution_count": 53,
      "outputs": []
    },
    {
      "cell_type": "code",
      "source": [
        "def cost(x_train,y_train,w,b):\n",
        "\n",
        "  # ---------\n",
        "    loss_arr = (np.matmul(x_train,w) + b - y_train)**2\n",
        "    loss = np.sum(loss_arr)\n",
        "\n",
        "    # Use mean square error as cost function\n",
        "    loss = loss/(2*x_train.shape[0])\n",
        "    # return cost\n",
        "  # ---------\n",
        "\n",
        "    return loss"
      ],
      "metadata": {
        "id": "O5dOwbNbWJWa"
      },
      "execution_count": 54,
      "outputs": []
    },
    {
      "cell_type": "code",
      "source": [
        "def gradient_descent(x_train,y_train,w,b):\n",
        "\n",
        "  # ---------\n",
        "    arr_temp = np.matmul(x_train,w) + b - y_train\n",
        "    arr_temp = np.matmul(x_train.T, arr_temp)\n",
        "    dJdw = arr_temp.T/x_train.shape[0]\n",
        "\n",
        "    arr = np.matmul(x_train,w) + b - y_train\n",
        "    dJdb = np.sum(arr)/x_train.shape[0]\n",
        "    # Choose learning rate yourself\n",
        "    alpha = 0.01\n",
        "    w = w - (alpha*dJdw)\n",
        "    b = b - (alpha*dJdb)\n",
        "\n",
        "    return w,b"
      ],
      "metadata": {
        "id": "hW8p2cTNU74W"
      },
      "execution_count": 55,
      "outputs": []
    },
    {
      "cell_type": "code",
      "source": [
        "x_train = x_train.astype(np.float64)\n",
        "x_train,x_std,x_mean = z_score(x_train)\n",
        "\n",
        "np.random.seed(2147483647)\n",
        "w = np.random.randn(x_train.shape[1],1)\n",
        "w = w.reshape(9)\n",
        "b = np.random.randn(1)\n",
        "\n",
        "old_cost = 0\n",
        "\n",
        "while abs(old_cost - cost(x_train,y_train,w,b))>0.00001:\n",
        "  old_cost = cost(x_train,y_train,w,b)\n",
        "  w,b = gradient_descent(x_train,y_train,w,b)\n",
        "\n",
        "x_predict = pd.read_excel('/content/Test data.xlsx').iloc[:,:8].to_numpy()\n",
        "x_predict = feature_changing(x_predict)\n",
        "for i in range(9):\n",
        "  x_predict[:,i] = (x_predict[:,i] - x_mean[i])/x_std[i]\n",
        "#x_predict = (x_predict - x_mean)/x_std\n",
        "ans = pd.read_excel('/content/Test data.xlsx').iloc[:,8].to_numpy()\n",
        "\n",
        "y_predict = np.dot(x_predict,w) + b\n",
        "\n",
        "accuracy = 0\n",
        "for dim in range(len(ans)):\n",
        "  if abs(y_predict[dim]-ans[dim])<0.5: # do not change the tolerance as you'll be checked on +- 0.5 error only\n",
        "    accuracy += 1\n",
        "accuracy = round(accuracy*100/200.0,2)\n",
        "ok = 'Congratulations' if accuracy>95 else 'Optimization required'\n",
        "print(f\"{ok}, your accuracy is {accuracy}%\")\n",
        "\n"
      ],
      "metadata": {
        "id": "Kl-fioJ5WkYn",
        "colab": {
          "base_uri": "https://localhost:8080/"
        },
        "outputId": "f4457b15-9a40-4e72-a45d-9cb996db2503"
      },
      "execution_count": 56,
      "outputs": [
        {
          "output_type": "stream",
          "name": "stdout",
          "text": [
            "Congratulations, your accuracy is 97.0%\n"
          ]
        }
      ]
    }
  ]
}