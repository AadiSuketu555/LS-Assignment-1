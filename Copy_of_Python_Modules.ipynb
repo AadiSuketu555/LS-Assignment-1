{
  "nbformat": 4,
  "nbformat_minor": 0,
  "metadata": {
    "colab": {
      "provenance": [],
      "include_colab_link": true
    },
    "kernelspec": {
      "name": "python3",
      "display_name": "Python 3"
    },
    "language_info": {
      "name": "python"
    }
  },
  "cells": [
    {
      "cell_type": "markdown",
      "metadata": {
        "id": "view-in-github",
        "colab_type": "text"
      },
      "source": [
        "<a href=\"https://colab.research.google.com/github/AadiSuketu555/LS-Assignment-1/blob/main/Copy_of_Python_Modules.ipynb\" target=\"_parent\"><img src=\"https://colab.research.google.com/assets/colab-badge.svg\" alt=\"Open In Colab\"/></a>"
      ]
    },
    {
      "cell_type": "markdown",
      "source": [
        "# Numpy Implementation"
      ],
      "metadata": {
        "id": "nKMH5Y1T06vH"
      }
    },
    {
      "cell_type": "code",
      "execution_count": 1,
      "metadata": {
        "colab": {
          "base_uri": "https://localhost:8080/"
        },
        "id": "MM8X0T-p06HB",
        "outputId": "39558258-c095-47ca-9549-0e56d99b3d1b"
      },
      "outputs": [
        {
          "output_type": "stream",
          "name": "stdout",
          "text": [
            "Passed\n"
          ]
        }
      ],
      "source": [
        "import numpy as np\n",
        "# Create a 2D Numpy array of size 1x3 with elements of your choice\n",
        "arr1= np.array([[1,2,3]])\n",
        "\n",
        "# Create a Numpy array of length 50 with zeroes as its elements\n",
        "arr2= np.zeros(50)\n",
        "\n",
        "#Create a Numpy array of length 3x2 with elements of your choice\n",
        "arr3= np.array([[1,2], [3,4], [5,6]])\n",
        "\n",
        "arr4= np.matmul(arr1, arr3)\n",
        "\n",
        "#Change 5th element of arr2 to a different number\n",
        "arr2[4] = 1\n",
        "\n",
        "if np.shape(arr4)==(1,2) and arr2[4]!=0:\n",
        "  print(\"Passed\")\n",
        "else:\n",
        "  print(\"Fail\")"
      ]
    },
    {
      "cell_type": "code",
      "source": [
        "import numpy as np\n",
        "\n",
        "#Task: Perform the dot product of I and 9I+1 using numpy, here I is referred to as an 3x3 Identity matrix.\n"
      ],
      "metadata": {
        "id": "KNTXZFd13rgE"
      },
      "execution_count": null,
      "outputs": []
    },
    {
      "cell_type": "markdown",
      "source": [
        "# Pandas Implementation"
      ],
      "metadata": {
        "id": "rRrOxN-6FXAb"
      }
    },
    {
      "cell_type": "code",
      "source": [
        "import pandas as pd\n",
        "\n",
        "## Create a DataFrame from a dictionary\n",
        "data = {\n",
        "    'Name': ['Ramesh', 'Mahesh', 'Suresh'],\n",
        "    'Age': [25, 30, 35],\n",
        "    'City': ['Bangalore', 'Mumbai', 'Delhi']\n",
        "}\n",
        "df = pd.DataFrame(data)\n",
        "\n",
        "#Display the first 2 rows of the data frame\n",
        "print(df.head(2))\n",
        "\n",
        "#Print the age column\n",
        "print(df.Age)\n",
        "\n",
        "#Filter rows where age is greater than 26\n",
        "df = df[df['Age'] <= 26]\n",
        "\n",
        "#Add a new column 'Country' with the value 'India' for all rows\n",
        "df['Country'] = 'India'\n",
        "\n",
        "data1 = {\n",
        "    'Name': ['Ramesh', 'Mahesh', 'Suresh'],\n",
        "    'Age': [25, None, 35],\n",
        "    'City': ['Bangalore', 'Mumbai', 'Delhi']\n",
        "}\n",
        "\n",
        "df2= pd.DataFrame(data1)\n",
        "\n",
        "# Fill missing values in the 'Age' column with the mean age\n",
        "df3 = df2.dropna()\n",
        "mean_age = df3['Age'].sum()/2\n",
        "df2.loc[1,'Age'] = mean_age"
      ],
      "metadata": {
        "id": "EaoIVtKIFenB",
        "colab": {
          "base_uri": "https://localhost:8080/"
        },
        "outputId": "7145dbd9-239a-46aa-f305-e63d4334c447"
      },
      "execution_count": 4,
      "outputs": [
        {
          "output_type": "stream",
          "name": "stdout",
          "text": [
            "     Name  Age       City\n",
            "0  Ramesh   25  Bangalore\n",
            "1  Mahesh   30     Mumbai\n",
            "0    25\n",
            "1    30\n",
            "2    35\n",
            "Name: Age, dtype: int64\n"
          ]
        }
      ]
    },
    {
      "cell_type": "markdown",
      "source": [
        "# Matplotlib Implementation"
      ],
      "metadata": {
        "id": "uay3H4C8cboE"
      }
    },
    {
      "cell_type": "code",
      "source": [
        "import matplotlib.pyplot as plt\n",
        "import numpy as np\n",
        "\n",
        "\n",
        "\n",
        "xpoints=np.array([1,2,3,4])\n",
        "ypoints=np.array([2,4,6,8])\n",
        "\n",
        "#Plot these points without drawing a line\n",
        "plt.plot(xpoints,ypoints,'o')\n",
        "\n",
        "#Plotting with marker: Plot these points with a marker(Star marker)\n",
        "plt.plot(xpoints,ypoints,'*')\n",
        "\n",
        "#Using fmt format, add circular marker,red color and Dashed line\n",
        "plt.plot(xpoints,ypoints,marker = 'o', c='red', ls = 'dashed')\n",
        "\n",
        "#Add xlabel,ylabel and title for the plot.\n",
        "plt.xlabel('X LABEL')\n",
        "plt.ylabel('Y LABEL')\n",
        "plt.title('TITLE')\n",
        "\n",
        "#Create a scatter plot for xpoints and ypoints\n",
        "plt.scatter(xpoints, ypoints)\n",
        "\n",
        "#Set color to the scatter plot. Blue,Green,Red and yellow color for each point respectively\n",
        "colour = np.array(['blue', 'green', 'red', 'yellow'])\n",
        "plt.scatter(xpoints, ypoints, c=colour)"
      ],
      "metadata": {
        "colab": {
          "base_uri": "https://localhost:8080/",
          "height": 489
        },
        "id": "i4lccqVxcgE_",
        "outputId": "0b2465d5-d563-42f0-f830-f2ed8ae2d46e"
      },
      "execution_count": 6,
      "outputs": [
        {
          "output_type": "execute_result",
          "data": {
            "text/plain": [
              "<matplotlib.collections.PathCollection at 0x79eebcc43190>"
            ]
          },
          "metadata": {},
          "execution_count": 6
        },
        {
          "output_type": "display_data",
          "data": {
            "text/plain": [
              "<Figure size 640x480 with 1 Axes>"
            ],
            "image/png": "[encoded data removed]"
          },
          "metadata": {}
        }
      ]
    },
    {
      "cell_type": "markdown",
      "source": [
        "# Miscellaneous Modules Implementation"
      ],
      "metadata": {
        "id": "pfe2Fv2tgKq5"
      }
    },
    {
      "cell_type": "code",
      "source": [],
      "metadata": {
        "id": "uwET4NZGSCru"
      },
      "execution_count": null,
      "outputs": []
    },
    {
      "cell_type": "code",
      "source": [
        "import random\n",
        "import numpy as np\n",
        "\n",
        "#Set the seed of random to 20\n",
        "random.seed(20)\n",
        "\n",
        "#Using the random module pick 4 different random numbers from arr1 and return their sum.\n",
        "arr1=np.array([1,24,31,45,73,81,94,25])\n",
        "arr2 = np.zeros(4)\n",
        "for i in range(4):\n",
        "  random_num = random.randint(1,8-i)\n",
        "  arr2[i] = arr1[random_num-1]\n",
        "  arr1 = np.delete(arr1, random_num-1)\n",
        "\n",
        "sum = np.sum(arr2)\n",
        "print(sum)"
      ],
      "metadata": {
        "id": "a_bTz2PlgRah",
        "colab": {
          "base_uri": "https://localhost:8080/"
        },
        "outputId": "24353a10-c6e4-4a24-9247-d7176c0fdc12"
      },
      "execution_count": 11,
      "outputs": [
        {
          "output_type": "stream",
          "name": "stdout",
          "text": [
            "[31. 45. 25.  1.]\n",
            "102.0\n"
          ]
        }
      ]
    }
  ]
}